{
 "cells": [
  {
   "cell_type": "markdown",
   "metadata": {},
   "source": [
    "# Using [ranges](https://docs.python.org/3/tutorial/controlflow.html#the-range-function) to create sequences of numbers\n",
    "Python has an own data type to represent a sequence of numbers. This data type is called\n",
    "[*Range*](https://docs.python.org/3/library/stdtypes.html#ranges). Ranges are created by calling the `range` function.\n",
    "\n",
    "In its simplest form the `range` function is invoked by with just one parameter. In this case a Range starting from 0 is\n",
    "created. The following example shows how to create a range containing the numbers from 0 to 4:\n",
    "\n",
    "```python\n",
    "  range(5) # -> 0 1 2 3 4\n",
    "```\n",
    "\n",
    "As you can see, the paramter, i.e. the end point of the sequence, is **not** part of the sequence. \n",
    "\n",
    "Alternatively, an initial value other than 0 can be used to defined a range. To do this, the `range` function is called\n",
    "with two parameters. The following function call creates a range in the interval from 10 to 15.\n",
    "\n",
    "```python\n",
    "  range(10,16) # -> 10 11 12 13 14 15\n",
    "```\n",
    "\n",
    "As you can see, the start point **is** part of the sequence, the end point is not. Question: What sequence is produced with range: `range(3,3)`? Give it a try ...\n",
    "\n",
    "By using the step size the distance between the numbers in the interval can be defined. The step size can be negative as\n",
    "well as positive.\n",
    "\n",
    "```python\n",
    "  range(2,12,3) # -> 2 5 8 11\n",
    "  range(20,5,-5) # -> 20 15 10\n",
    "```\n",
    "\n",
    "# Ranges and the `for` loop\n",
    "Ranges can be used in combination with the `for` loop to control the number of loop passes. This is explained in more\n",
    "detail in the following examples. For instance, to print the numbers from 0 to 9, the following Python code can be used:"
   ]
  },
  {
   "cell_type": "code",
   "execution_count": 3,
   "metadata": {},
   "outputs": [
    {
     "name": "stdout",
     "output_type": "stream",
     "text": [
      "0\n",
      "1\n",
      "2\n",
      "3\n",
      "4\n",
      "5\n",
      "6\n",
      "7\n",
      "8\n",
      "9\n"
     ]
    }
   ],
   "source": [
    "for number in range(10):\n",
    "    print(number)"
   ]
  },
  {
   "cell_type": "code",
   "execution_count": 4,
   "metadata": {},
   "outputs": [],
   "source": [
    "for number in range(3,3):\n",
    "    print(number)"
   ]
  },
  {
   "cell_type": "code",
   "execution_count": 5,
   "metadata": {},
   "outputs": [
    {
     "name": "stdout",
     "output_type": "stream",
     "text": [
      "0\n",
      "1\n",
      "2\n",
      "3\n",
      "4\n"
     ]
    }
   ],
   "source": [
    "for number in range(5):\n",
    "    print(number)"
   ]
  },
  {
   "cell_type": "markdown",
   "metadata": {},
   "source": [
    "The numbers from 10 to 19 can be output as follows:"
   ]
  },
  {
   "cell_type": "code",
   "execution_count": 6,
   "metadata": {},
   "outputs": [
    {
     "name": "stdout",
     "output_type": "stream",
     "text": [
      "10\n",
      "11\n",
      "12\n",
      "13\n",
      "14\n",
      "15\n",
      "16\n",
      "17\n",
      "18\n",
      "19\n"
     ]
    }
   ],
   "source": [
    "for number in range(10, 20):\n",
    "    print(number)"
   ]
  },
  {
   "cell_type": "markdown",
   "metadata": {},
   "source": [
    "Last but not least, the step size of the interval represented by the range can be adjusted. For example, the following\n",
    "Python code outputs all numbers from 10 to 0 in steps of 2."
   ]
  },
  {
   "cell_type": "code",
   "execution_count": 7,
   "metadata": {},
   "outputs": [
    {
     "name": "stdout",
     "output_type": "stream",
     "text": [
      "10\n",
      "8\n",
      "6\n",
      "4\n",
      "2\n"
     ]
    }
   ],
   "source": [
    "for number in range(10, 0, -2):\n",
    "    print(number)"
   ]
  },
  {
   "cell_type": "markdown",
   "metadata": {},
   "source": [
    "# Exercise 1 - Combining `range` and `input`\n",
    "Now it's your turn again. Write a Python program that expects three integer numbers as input: from, to and increment.\n",
    "Then output the numbers in that range with the appropriate increment. Note: Remember to convert the inputs to the\n",
    "correct data type."
   ]
  },
  {
   "cell_type": "code",
   "execution_count": 8,
   "metadata": {},
   "outputs": [
    {
     "name": "stdout",
     "output_type": "stream",
     "text": [
      "2\n",
      "5\n",
      "8\n",
      "11\n",
      "14\n",
      "17\n",
      "20\n",
      "23\n"
     ]
    }
   ],
   "source": [
    "# Get starting point from user\n",
    "from_input = int(input(\"Please give a number to start from: \"))\n",
    "\n",
    "#Get stopping point from user\n",
    "to_input = int(input(\"Please give a number to stop at: \"))\n",
    "\n",
    "#Get increment amount from user\n",
    "increment_input = int(input(\"Please give an amount to increment by: \"))\n",
    "\n",
    "#Print out numbers in range from given input\n",
    "for number in range(from_input, to_input, increment_input):\n",
    "    print(number)\n",
    "\n"
   ]
  },
  {
   "cell_type": "markdown",
   "metadata": {},
   "source": [
    "# Exercise 2 - FizzBuzz\n",
    "Write a program that outputs the numbers from 1 to 100. All numbers that are divisible by three should be replaced by\n",
    "*Fizz* and all numbers that are divisible by 5 should be replaced by *Buzz*. Numbers that are divisible by both 3 and 5\n",
    "will be replaced by \"FizzBuzz\".  \n",
    "**Note:** You can check the divisibility with the modulo operator ``%`. The output of the function should look like\n",
    "this:\n",
    "\n",
    "> 1 <br>\n",
    "> 2 <br>\n",
    "> Fizz <br>\n",
    "> 4 <br>\n",
    "> Buzz <br>\n",
    "> Fizz <br>\n",
    "> 7 <br>\n",
    "> ..."
   ]
  },
  {
   "cell_type": "code",
   "execution_count": 10,
   "metadata": {},
   "outputs": [
    {
     "name": "stdout",
     "output_type": "stream",
     "text": [
      "1\n",
      "2\n",
      "Fizz\n",
      "3\n",
      "4\n",
      "Buzz\n",
      "5\n",
      "Fizz\n",
      "6\n",
      "7\n",
      "8\n",
      "Fizz\n",
      "9\n",
      "Buzz\n",
      "10\n",
      "11\n",
      "Fizz\n",
      "12\n",
      "13\n",
      "14\n",
      "Fizz\n",
      "FizzBuzz\n",
      "16\n",
      "17\n",
      "Fizz\n",
      "18\n",
      "19\n",
      "Buzz\n",
      "20\n",
      "Fizz\n",
      "21\n",
      "22\n",
      "23\n",
      "Fizz\n",
      "24\n",
      "Buzz\n",
      "25\n",
      "26\n",
      "Fizz\n",
      "27\n",
      "28\n",
      "29\n",
      "Fizz\n",
      "FizzBuzz\n",
      "31\n",
      "32\n",
      "Fizz\n",
      "33\n",
      "34\n",
      "Buzz\n",
      "35\n",
      "Fizz\n",
      "36\n",
      "37\n",
      "38\n",
      "Fizz\n",
      "39\n",
      "Buzz\n",
      "40\n",
      "41\n",
      "Fizz\n",
      "42\n",
      "43\n",
      "44\n",
      "Fizz\n",
      "FizzBuzz\n",
      "46\n",
      "47\n",
      "Fizz\n",
      "48\n",
      "49\n",
      "Buzz\n",
      "50\n",
      "Fizz\n",
      "51\n",
      "52\n",
      "53\n",
      "Fizz\n",
      "54\n",
      "Buzz\n",
      "55\n",
      "56\n",
      "Fizz\n",
      "57\n",
      "58\n",
      "59\n",
      "Fizz\n",
      "FizzBuzz\n",
      "61\n",
      "62\n",
      "Fizz\n",
      "63\n",
      "64\n",
      "Buzz\n",
      "65\n",
      "Fizz\n",
      "66\n",
      "67\n",
      "68\n",
      "Fizz\n",
      "69\n",
      "Buzz\n",
      "70\n",
      "71\n",
      "Fizz\n",
      "72\n",
      "73\n",
      "74\n",
      "Fizz\n",
      "FizzBuzz\n",
      "76\n",
      "77\n",
      "Fizz\n",
      "78\n",
      "79\n",
      "Buzz\n",
      "80\n",
      "Fizz\n",
      "81\n",
      "82\n",
      "83\n",
      "Fizz\n",
      "84\n",
      "Buzz\n",
      "85\n",
      "86\n",
      "Fizz\n",
      "87\n",
      "88\n",
      "89\n",
      "Fizz\n",
      "FizzBuzz\n",
      "91\n",
      "92\n",
      "Fizz\n",
      "93\n",
      "94\n",
      "Buzz\n",
      "95\n",
      "Fizz\n",
      "96\n",
      "97\n",
      "98\n",
      "Fizz\n",
      "99\n",
      "Buzz\n",
      "100\n"
     ]
    }
   ],
   "source": [
    "for number in range(1,101):\n",
    "    if number % 3 == 0:\n",
    "        print(\"Fizz\")\n",
    "    elif number % 5 == 0:\n",
    "        print(\"Buzz\")\n",
    "    if number % 3 == 0 and number % 5 == 0:\n",
    "        print(\"FizzBuzz\")\n",
    "    else:\n",
    "        print(number)"
   ]
  },
  {
   "cell_type": "code",
   "execution_count": 2,
   "metadata": {},
   "outputs": [
    {
     "name": "stdout",
     "output_type": "stream",
     "text": [
      "Sum of row: 8 24 \n"
     ]
    }
   ],
   "source": [
    "def get_matrix_sum(rows, cols):\n",
    "  \"\"\"\n",
    "  Calculates the sum of each row in a 2D matrix.\n",
    "\n",
    "  Args:\n",
    "    rows: The number of rows in the matrix.\n",
    "    cols: The number of columns in the matrix.\n",
    "\n",
    "  Returns:\n",
    "    A list containing the sum of each row.\n",
    "  \"\"\"\n",
    "\n",
    "  matrix = []\n",
    "  for _ in range(rows):\n",
    "    row = []\n",
    "    for _ in range(cols):\n",
    "      value = int(input(\"Value: \"))\n",
    "      row.append(value)\n",
    "    matrix.append(row)\n",
    "\n",
    "  row_sums = []\n",
    "  for row in matrix:\n",
    "    row_sum = sum(row)\n",
    "    row_sums.append(row_sum)\n",
    "\n",
    "  return row_sums\n",
    "\n",
    "def main():\n",
    "  rows = int(input(\"Please enter the number of rows in the matrix: \"))\n",
    "  cols = int(input(\"Please enter the number of columns in the matrix: \"))\n",
    "\n",
    "  row_sums = get_matrix_sum(rows, cols)\n",
    "\n",
    "  print(\"Sum of row:\", end=\" \")\n",
    "  for row_sum in row_sums:\n",
    "    print(row_sum, end=\" \")\n",
    "  print()\n",
    "\n",
    "if __name__ == \"__main__\":\n",
    "  main()"
   ]
  }
 ],
 "metadata": {
  "file_extension": ".py",
  "kernelspec": {
   "display_name": "Python 3",
   "language": "python",
   "name": "python3"
  },
  "language_info": {
   "codemirror_mode": {
    "name": "ipython",
    "version": 3
   },
   "file_extension": ".py",
   "mimetype": "text/x-python",
   "name": "python",
   "nbconvert_exporter": "python",
   "pygments_lexer": "ipython3",
   "version": "3.11.9"
  },
  "mimetype": "text/x-python",
  "name": "python",
  "npconvert_exporter": "python",
  "pygments_lexer": "ipython3",
  "version": 3
 },
 "nbformat": 4,
 "nbformat_minor": 2
}
